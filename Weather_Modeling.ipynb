{
  "nbformat": 4,
  "nbformat_minor": 0,
  "metadata": {
    "colab": {
      "provenance": [],
      "authorship_tag": "ABX9TyMSrdN16y3n2l6NDRql4B0N",
      "include_colab_link": true
    },
    "kernelspec": {
      "name": "python3",
      "display_name": "Python 3"
    },
    "language_info": {
      "name": "python"
    }
  },
  "cells": [
    {
      "cell_type": "markdown",
      "metadata": {
        "id": "view-in-github",
        "colab_type": "text"
      },
      "source": [
        "<a href=\"https://colab.research.google.com/github/GNS117/GNS1968/blob/main/Weather_Modeling.ipynb\" target=\"_parent\"><img src=\"https://colab.research.google.com/assets/colab-badge.svg\" alt=\"Open In Colab\"/></a>"
      ]
    },
    {
      "cell_type": "code",
      "execution_count": null,
      "metadata": {
        "colab": {
          "base_uri": "https://localhost:8080/"
        },
        "id": "JcdxPimp2L39",
        "outputId": "20709722-f8e7-4d66-e0f5-db70b5fae531"
      },
      "outputs": [
        {
          "output_type": "stream",
          "name": "stdout",
          "text": [
            "Enter the quadratic coefficient (a) or type 'quit' to exit: QUIT\n",
            "Invalid input. Please enter numerical values or type 'quit'.\n",
            "Enter the quadratic coefficient (a) or type 'quit' to exit: 2\n",
            "Enter the linear coefficient (b): 5\n",
            "Enter the constant (c): 3\n",
            "Enter time value: 56\n",
            "Temperature at time 56.0: 6555.0\n",
            "Enter the quadratic coefficient (a) or type 'quit' to exit: 30\n",
            "Enter the linear coefficient (b): 10\n",
            "Enter the constant (c): 0\n",
            "Enter time value: 6\n",
            "Temperature at time 6.0: 1140.0\n",
            "Enter the quadratic coefficient (a) or type 'quit' to exit: 30\n",
            "Enter the linear coefficient (b): 10\n",
            "Enter the constant (c): 50\n",
            "Enter time value: 56\n",
            "Temperature at time 56.0: 94690.0\n"
          ]
        }
      ],
      "source": [
        "\n",
        "\n",
        "import math\n",
        "\n",
        "# Stage 1: Hardcoding variables\n",
        "def quadratic_weather_model_hardcoded():\n",
        "  a = 0.5  # Example quadratic coefficient\n",
        "  b = -2   # Example linear coefficient\n",
        "  c = 1    # Example constant\n",
        "\n",
        "  temperature = a * (0**2) + b * 0 + c\n",
        "  print(f\"Temperature: {temperature}\")\n",
        "\n",
        "# Stage 2: Keyboard Input\n",
        "def quadratic_weather_model_keyboard():\n",
        "  try:\n",
        "    a = float(input(\"Enter the quadratic coefficient (a): \"))\n",
        "    b = float(input(\"Enter the linear coefficient (b): \"))\n",
        "    c = float(input(\"Enter the constant (c): \"))\n",
        "    time = float(input(\"Enter time value: \"))\n",
        "\n",
        "    temperature = a * (time**2) + b * time + c\n",
        "    print(f\"Temperature at time {time}: {temperature}\")\n",
        "\n",
        "  except ValueError:\n",
        "    print(\"Invalid input. Please enter numerical values.\")\n",
        "\n",
        "# Stage 3: Read from a file\n",
        "def quadratic_weather_model_file(filename):\n",
        "  try:\n",
        "      with open(filename, 'r') as f:\n",
        "        a, b, c, time = map(float, f.readline().split(',')) # Assuming the file is comma separated\n",
        "\n",
        "      temperature = a * (time**2) + b * time + c\n",
        "      print(f\"Temperature at time {time}: {temperature}\")\n",
        "\n",
        "  except FileNotFoundError:\n",
        "      print(f\"Error: File '{filename}' not found.\")\n",
        "  except ValueError:\n",
        "      print(\"Invalid data in file. Please ensure the file contains four comma separated numerical values for a, b, c, time.\")\n",
        "  except Exception as e:\n",
        "    print(f\"An unexpected error occurred: {e}\")\n",
        "\n",
        "\n",
        "def quadratic_weather_model_multiple_inputs(filename=None):\n",
        "\n",
        "  if filename:\n",
        "      try:\n",
        "        with open(filename, 'r') as f:\n",
        "          for line in f:\n",
        "              try:\n",
        "                a, b, c, time = map(float, line.strip().split(','))\n",
        "                temperature = a * (time**2) + b * time + c\n",
        "                print(f\"For a = {a}, b = {b}, c = {c}, and time = {time}, Temperature: {temperature}\")\n",
        "              except ValueError:\n",
        "                  print(\"Skipping invalid line in file:\", line.strip()) # Handle bad lines gracefully\n",
        "      except FileNotFoundError:\n",
        "          print(f\"Error: File '{filename}' not found.\")\n",
        "      return\n",
        "\n",
        "\n",
        "  while True:\n",
        "      try:5\n",
        "        a = float(input(\"Enter the quadratic coefficient (a) or type 'quit' to exit: \"))\n",
        "        if str(a).lower() == 'quit':\n",
        "          break # Gracefully exit the loop\n",
        "\n",
        "        b = float(input(\"Enter the linear coefficient (b): \"))\n",
        "        c = float(input(\"Enter the constant (c): \"))\n",
        "        time = float(input(\"Enter time value: \"))\n",
        "\n",
        "        temperature = a * (time**2) + b * time + c\n",
        "        print(f\"Temperature at time {time}: {temperature}\")\n",
        "      except ValueError:\n",
        "          print(\"Invalid input. Please enter numerical values or type 'quit'.\")\n",
        "\n",
        "\n",
        "\n",
        "\n",
        "quadratic_weather_model_multiple_inputs()"
      ]
    }
  ]
}