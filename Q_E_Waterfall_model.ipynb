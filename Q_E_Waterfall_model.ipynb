{
  "nbformat": 4,
  "nbformat_minor": 0,
  "metadata": {
    "colab": {
      "provenance": [],
      "authorship_tag": "ABX9TyNkdQ/IDkW6nAE+nv9nDbK2",
      "include_colab_link": true
    },
    "kernelspec": {
      "name": "python3",
      "display_name": "Python 3"
    },
    "language_info": {
      "name": "python"
    }
  },
  "cells": [
    {
      "cell_type": "markdown",
      "metadata": {
        "id": "view-in-github",
        "colab_type": "text"
      },
      "source": [
        "<a href=\"https://colab.research.google.com/github/GNS117/GNS1968/blob/main/Q_E_Waterfall_model.ipynb\" target=\"_parent\"><img src=\"https://colab.research.google.com/assets/colab-badge.svg\" alt=\"Open In Colab\"/></a>"
      ]
    },
    {
      "cell_type": "code",
      "execution_count": 2,
      "metadata": {
        "colab": {
          "base_uri": "https://localhost:8080/"
        },
        "id": "COiFnXmrJff9",
        "outputId": "8ac170d1-dc19-4a58-fda1-376c6f5e8e48"
      },
      "outputs": [
        {
          "output_type": "stream",
          "name": "stdout",
          "text": [
            "Enter coefficient a (not zero): 2\n",
            "Enter coefficient b: 5\n",
            "Enter coefficient c: 3\n",
            "The roots are: (-1+0j) and (-1.5+0j)\n"
          ]
        }
      ],
      "source": [
        "import cmath\n",
        "\n",
        "def solve_quadratic(a, b, c):\n",
        "\n",
        "    D = b**2 - 4*a*c\n",
        "\n",
        "\n",
        "    root1 = (-b + cmath.sqrt(D)) / (2 * a)\n",
        "    root2 = (-b - cmath.sqrt(D)) / (2 * a)\n",
        "\n",
        "    return root1, root2\n",
        "\n",
        "\n",
        "a = float(input(\"Enter coefficient a (not zero): \"))\n",
        "b = float(input(\"Enter coefficient b: \"))\n",
        "c = float(input(\"Enter coefficient c: \"))\n",
        "\n",
        "\n",
        "if a == 0:\n",
        "    print(\"Coefficient 'a' must not be zero.\")\n",
        "else:\n",
        "    roots = solve_quadratic(a, b, c)\n",
        "    print(f\"The roots are: {roots[0]} and {roots[1]}\")\n"
      ]
    }
  ]
}